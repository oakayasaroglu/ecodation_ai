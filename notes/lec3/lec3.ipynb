{
  "nbformat": 4,
  "nbformat_minor": 0,
  "metadata": {
    "colab": {
      "name": "lec3.ipynb",
      "provenance": [],
      "collapsed_sections": []
    },
    "kernelspec": {
      "name": "python3",
      "display_name": "Python 3"
    },
    "language_info": {
      "name": "python"
    }
  },
  "cells": [
    {
      "cell_type": "markdown",
      "source": [
        "# Files and Except"
      ],
      "metadata": {
        "id": "qENJw8BgXAq3"
      }
    },
    {
      "cell_type": "code",
      "source": [
        "f = open(\"test.txt\",\"w\")\n",
        "print(f)"
      ],
      "metadata": {
        "colab": {
          "base_uri": "https://localhost:8080/"
        },
        "id": "cWIE2nMCXVkm",
        "outputId": "5f6961c6-489c-411f-f996-33b60e041110"
      },
      "execution_count": 61,
      "outputs": [
        {
          "output_type": "stream",
          "name": "stdout",
          "text": [
            "<_io.TextIOWrapper name='test.txt' mode='w' encoding='UTF-8'>\n"
          ]
        }
      ]
    },
    {
      "cell_type": "markdown",
      "source": [
        "```f``` is the name of defined variable for the .txt file.\n",
        "\n",
        "```open``` function opens or creates file.\n",
        "\n",
        "Files have 3 main modes:\n",
        "\n",
        " - ```\"r\"``` read mode\n",
        "\n",
        " - ```\"w\"``` write mode\n",
        "\n",
        " - ```\"a\"``` append mode"
      ],
      "metadata": {
        "id": "pfdSm33mY1Yh"
      }
    },
    {
      "cell_type": "code",
      "source": [
        "f.write(\"Now is the time\")\n",
        "f.write(\" to close the file.\")\n",
        "f.close()"
      ],
      "metadata": {
        "id": "nHqT6c6ZaLCW"
      },
      "execution_count": 62,
      "outputs": []
    },
    {
      "cell_type": "markdown",
      "source": [
        "```write()``` function writes into the file.\n",
        "\n",
        "```close()``` function closes the file."
      ],
      "metadata": {
        "id": "uKKIWO6Dauvj"
      }
    },
    {
      "cell_type": "code",
      "source": [
        "f = open(\"test.txt\",\"r\")\n",
        "text = f.read()\n",
        "print(text)"
      ],
      "metadata": {
        "colab": {
          "base_uri": "https://localhost:8080/"
        },
        "id": "-g3IfbihbUNO",
        "outputId": "68829c10-b3e8-401c-e0b5-813bfc6e0fb5"
      },
      "execution_count": 63,
      "outputs": [
        {
          "output_type": "stream",
          "name": "stdout",
          "text": [
            "Now is the time to close the file.\n"
          ]
        }
      ]
    },
    {
      "cell_type": "markdown",
      "source": [
        "I opened the __\"test.txt\"__ in read mode, then I read it with using ```read()``` function and assigned to the variable that named with ```text```. Then I printed it."
      ],
      "metadata": {
        "id": "Rn_4w6xocbO1"
      }
    },
    {
      "cell_type": "code",
      "source": [
        "f = open(\"test.txt\",\"r\")\n",
        "print(f.read(8))\n",
        "print(f.read(1000000 + 6))"
      ],
      "metadata": {
        "colab": {
          "base_uri": "https://localhost:8080/"
        },
        "id": "4E0LEfkEcTA2",
        "outputId": "4dc534d1-beef-4f6e-cbb4-08030af2ba5a"
      },
      "execution_count": 64,
      "outputs": [
        {
          "output_type": "stream",
          "name": "stdout",
          "text": [
            "Now is t\n",
            "he time to close the file.\n"
          ]
        }
      ]
    },
    {
      "cell_type": "markdown",
      "source": [
        " - If you write **8** into ```read()``` function's paranthesis. It will read first **8** digits.\n",
        " - If you write **1000000 + 6** into ```read()``` function's paranthesis. It will read all of the file, except first **6** digits."
      ],
      "metadata": {
        "id": "nySfJeqVdibW"
      }
    },
    {
      "cell_type": "code",
      "source": [
        "f1l3 = open(\"f1l3.txt\",\"w\")\n",
        "f1l3.write(\"Python is a great language.\\n Yeah it's great!\\n\")\n",
        "f1l3.close()"
      ],
      "metadata": {
        "id": "TBcUm9v5hy88"
      },
      "execution_count": 65,
      "outputs": []
    },
    {
      "cell_type": "code",
      "source": [
        "f1l3 = open(\"f1l3.txt\",\"r+\")\n",
        "my_string = f1l3.read(17)\n",
        "print(\"Our string is:\", my_string)"
      ],
      "metadata": {
        "colab": {
          "base_uri": "https://localhost:8080/"
        },
        "id": "i0v3SSMOjJUb",
        "outputId": "f02e9a51-5968-48d5-b79e-ee0baabbfe05"
      },
      "execution_count": 66,
      "outputs": [
        {
          "output_type": "stream",
          "name": "stdout",
          "text": [
            "Our string is: Python is a great\n"
          ]
        }
      ]
    },
    {
      "cell_type": "markdown",
      "source": [
        "```\"r+\"``` is **read&write** mode.\n",
        "\n"
      ],
      "metadata": {
        "id": "UNHeljBsk21s"
      }
    },
    {
      "cell_type": "code",
      "source": [
        "position = f1l3.tell()\n",
        "print(\"Current file position:\", position)"
      ],
      "metadata": {
        "colab": {
          "base_uri": "https://localhost:8080/"
        },
        "id": "Y_DY_6DLlJDd",
        "outputId": "3c1e119c-1ff8-4f1f-94b1-e7c7d43a322b"
      },
      "execution_count": 67,
      "outputs": [
        {
          "output_type": "stream",
          "name": "stdout",
          "text": [
            "Current file position: 17\n"
          ]
        }
      ]
    },
    {
      "cell_type": "markdown",
      "source": [
        "```tell()``` function returns the cursor's last position."
      ],
      "metadata": {
        "id": "xGEzFM0Tl_DP"
      }
    },
    {
      "cell_type": "code",
      "source": [
        "position = f1l3.seek(0,0)\n",
        "my_string = f1l3.read(17)\n",
        "print(\"Again our string is:\", my_string)"
      ],
      "metadata": {
        "colab": {
          "base_uri": "https://localhost:8080/"
        },
        "id": "hOYz_fmMmH-O",
        "outputId": "3fb91b9b-6123-47fc-8672-7e0d3b9b0dc3"
      },
      "execution_count": 68,
      "outputs": [
        {
          "output_type": "stream",
          "name": "stdout",
          "text": [
            "Again our string is: Python is a great\n"
          ]
        }
      ]
    },
    {
      "cell_type": "markdown",
      "source": [
        "```seek()``` function is sets position of cursor."
      ],
      "metadata": {
        "id": "iyqWSjrqma4q"
      }
    },
    {
      "cell_type": "markdown",
      "source": [
        "\n",
        "\n",
        "---\n",
        "\n",
        "\n",
        "### try, except, else, finally"
      ],
      "metadata": {
        "id": "IKOBaG7_n_1E"
      }
    },
    {
      "cell_type": "code",
      "source": [
        ""
      ],
      "metadata": {
        "id": "sV9mDrfqoasC"
      },
      "execution_count": null,
      "outputs": []
    }
  ]
}